{
 "cells": [
  {
   "cell_type": "markdown",
   "id": "ca11cff5-90fe-411b-a159-8b2e6e7dd897",
   "metadata": {
    "tags": []
   },
   "source": [
    "# Python Function Theory Questions"
   ]
  },
  {
   "cell_type": "markdown",
   "id": "caa9cc6e-5d08-40f3-a504-333003289bf0",
   "metadata": {},
   "source": [
    "\n",
    "##\n"
   ]
  },
  {
   "cell_type": "markdown",
   "id": "fad3de19-f19f-46da-a21a-8c4c136f4505",
   "metadata": {
    "jp-MarkdownHeadingCollapsed": true,
    "tags": []
   },
   "source": [
    "## 1. What is the difference between a function and a method in Python?"
   ]
  },
  {
   "cell_type": "markdown",
   "id": "8b437afc-0777-4240-a5f5-8cd4de79ec48",
   "metadata": {},
   "source": [
    "Ans.      \n",
    "Here, key differences between Method and Function in Python are explained. Java is also an OOP language, but there is no concept of Function in it. But Python has both concept of Method and Function.    \n",
    "1. Function:\n",
    "- A function is a block of reusable code that performs a specific task. It is defined using the def keyword and can be called by its name.\n",
    "- Functions are independent of any objects or classes, meaning they can be used without being associated with a particular instance of a class.\n",
    "- Functions can accept input arguments (parameters), which are passed explicitly when the function is called. They may also return a result after processing.\n",
    "- Since functions are not tied to any object, they do not have access to object-specific data (like instance variables) unless such data is passed to them explicitly.\n",
    "\n",
    "- Example of a Function:"
   ]
  },
  {
   "cell_type": "code",
   "execution_count": 27,
   "id": "80b6e2cb-0123-492a-a1b6-862c19b12a9f",
   "metadata": {},
   "outputs": [
    {
     "name": "stdout",
     "output_type": "stream",
     "text": [
      "8\n"
     ]
    }
   ],
   "source": [
    "def add_numbers(a, b):\n",
    "    return a + b\n",
    "\n",
    "result = add_numbers(5, 3)\n",
    "print(result)  \n",
    "\n",
    "# In this example, add_numbers is a function that takes two arguments, adds them together, and returns the result. The function is independent of any class or object.\n"
   ]
  },
  {
   "cell_type": "markdown",
   "id": "e943bb15-eb2b-486c-aa95-9d0f9b365bcb",
   "metadata": {},
   "source": [
    "2. Method:\n",
    "- A method is similar to a function but is associated with an object (an instance of a class). It is defined within a class and is called on an object of that class.\n",
    "- Methods are dependent on the object they are called on and can access and modify the object's attributes (instance variables).\n",
    "- The definition of a method always includes self as its first parameter. This self parameter refers to the instance of the class and allows the method to access the attributes and other methods of the class.\n",
    "- Methods can be used to perform operations on the data contained within the class. Like functions, they may or may not return data.\n",
    "\n",
    "- Example of a Method:"
   ]
  },
  {
   "cell_type": "code",
   "execution_count": 28,
   "id": "32606781-af6d-4647-91ca-e1d81ae6fb69",
   "metadata": {},
   "outputs": [
    {
     "name": "stdout",
     "output_type": "stream",
     "text": [
      "8\n",
      "15\n"
     ]
    }
   ],
   "source": [
    "class Calculator:\n",
    "    def __init__(self, a, b):\n",
    "        self.a = a\n",
    "        self.b = b\n",
    "    \n",
    "    def add(self):\n",
    "        return self.a + self.b\n",
    "    \n",
    "    def multiply(self):\n",
    "        return self.a * self.b\n",
    "\n",
    "calc = Calculator(5, 3)\n",
    "print(calc.add())       \n",
    "print(calc.multiply()) \n",
    "\n",
    "# In this example, add and multiply are methods within the Calculator class. These methods are called on an object (calc) of the class and operate on the object's attributes self.a and self.b.\n"
   ]
  },
  {
   "cell_type": "markdown",
   "id": "456c42b8-704c-4047-a502-7f109924f5c5",
   "metadata": {},
   "source": [
    "3. Key Differences:\n",
    "- Association with Objects/Classes:    \n",
    "    - Functions are standalone and independent. They are not bound to any class or object.    \n",
    "    - Methods are associated with objects. They are called on class instances (objects) and can access or modify the object's data.\n",
    "- Parameters:   \n",
    "    - unctions take parameters explicitly and may or may not return data.     \n",
    "    - Methods always include self as their first parameter to refer to the instance on which they are invoked, making them implicitly passed to the object.\n",
    "- Access to Data:    \n",
    "    - Functions do not have access to instance variables or class-specific data unless passed explicitly.      \n",
    "    - Methods can operate on and modify instance variables of the object they are tied to.\n",
    "\n",
    "- Combined Example:"
   ]
  },
  {
   "cell_type": "code",
   "execution_count": 29,
   "id": "d4e6e58b-bb7b-4ad6-bc27-25ae552bdf75",
   "metadata": {},
   "outputs": [
    {
     "name": "stdout",
     "output_type": "stream",
     "text": [
      "Hello, Alice!\n",
      "Hello, Alice!\n"
     ]
    }
   ],
   "source": [
    "def greet(name):\n",
    "    return f\"Hello, {name}!\"  # Independent function\n",
    "\n",
    "class Person:\n",
    "    def __init__(self, name):\n",
    "        self.name = name\n",
    "    \n",
    "    def greet(self):\n",
    "        return f\"Hello, {self.name}!\"  # Method dependent on the object\n",
    "\n",
    "# Calling the function\n",
    "print(greet(\"Alice\"))  # Output: Hello, Alice!\n",
    "\n",
    "# Creating an object of the class and calling the method\n",
    "person = Person(\"Alice\")\n",
    "print(person.greet())  # Output: Hello, Alice!\n",
    "\n",
    "# Here, the function greet(name) is independent and can be called with any name. On the other hand, the method greet() inside the Person class operates on the name attribute of the Person object and is called using the person object.\n"
   ]
  },
  {
   "cell_type": "markdown",
   "id": "a54d5c5c-fca2-4fa3-8b28-fedfcaad6c5e",
   "metadata": {},
   "source": [
    "##"
   ]
  },
  {
   "cell_type": "markdown",
   "id": "7df1f6ed-1ce9-4b85-89e9-7304e64b0840",
   "metadata": {
    "jp-MarkdownHeadingCollapsed": true,
    "tags": []
   },
   "source": [
    "## 2. Explain the concept of function arguments and parameters in Python."
   ]
  },
  {
   "cell_type": "markdown",
   "id": "514b8929-02c8-4775-85b0-7b41787189ff",
   "metadata": {
    "tags": []
   },
   "source": [
    "Ans.   \n",
    "In Python, function arguments and parameters are essential concepts related to how data is passed into a function. Though often used interchangeably, they refer to different aspects of the function definition and invocation.\n",
    "\n",
    "### Parameters:\n",
    "    - Parameters are variables defined in a function's signature (or header). They act as placeholders for the values that will be passed when the function is called.\n",
    "    - Parameters are specified when the function is defined.\n",
    "\n",
    "### Arguments:\n",
    "    - Arguments are the actual values or data that are passed into a function when it is called.\n",
    "    - Arguments provide the values that the function's parameters will use."
   ]
  },
  {
   "cell_type": "code",
   "execution_count": 30,
   "id": "9c8a0ab8-5a88-4b28-9ae8-53b71c2ad09a",
   "metadata": {},
   "outputs": [
    {
     "name": "stdout",
     "output_type": "stream",
     "text": [
      "Hello, Alice! You are 25 years old.\n"
     ]
    }
   ],
   "source": [
    "# Function definition with parameters\n",
    "def greet(name, age):  # 'name' and 'age' are parameters\n",
    "    print(f\"Hello, {name}! You are {age} years old.\")\n",
    "\n",
    "# Function call with arguments\n",
    "greet(\"Alice\", 25)  \n"
   ]
  },
  {
   "cell_type": "markdown",
   "id": "9bb3c488-b777-43fa-a197-f8981272ccd8",
   "metadata": {},
   "source": [
    "##"
   ]
  },
  {
   "cell_type": "markdown",
   "id": "5a616fad-8c04-4842-85d1-5261f4d27c9c",
   "metadata": {
    "jp-MarkdownHeadingCollapsed": true,
    "tags": []
   },
   "source": [
    "## 3. What are the different ways to define and call a function in Python?"
   ]
  },
  {
   "cell_type": "markdown",
   "id": "d1114861-3eac-4a7e-b090-1fbc2a4fac03",
   "metadata": {},
   "source": [
    "Ans.     \n",
    "In Python, there are multiple ways to define and call functions, providing flexibility in how you design and use them. Here's an overview of the different ways to define and call functions in Python:\n",
    "\n",
    "### 1. Basic Function Definition and Call\n",
    "    - The most common way to define a function is by using the def keyword followed by the function name and parentheses. You call the function by writing its name followed by parentheses."
   ]
  },
  {
   "cell_type": "code",
   "execution_count": 26,
   "id": "7155c02f-e0fd-4e7d-8b1a-b8b43cec60d4",
   "metadata": {},
   "outputs": [
    {
     "name": "stdout",
     "output_type": "stream",
     "text": [
      "Hello, World!\n"
     ]
    }
   ],
   "source": [
    "# Example\n",
    "\n",
    "def greet():\n",
    "    print(\"Hello, World!\")\n",
    "\n",
    "# Function call\n",
    "greet()  \n"
   ]
  },
  {
   "cell_type": "markdown",
   "id": "979de003-3f79-4a79-b38c-be758026cc48",
   "metadata": {},
   "source": [
    "### 2. Function with Parameters and Return Value\n",
    "    - You can define functions with parameters and optionally return a value."
   ]
  },
  {
   "cell_type": "code",
   "execution_count": 25,
   "id": "82717b95-d2cb-4f8e-9fb0-c8972888de52",
   "metadata": {},
   "outputs": [
    {
     "name": "stdout",
     "output_type": "stream",
     "text": [
      "15\n"
     ]
    }
   ],
   "source": [
    "# Example\n",
    "\n",
    "def add(a, b):\n",
    "    return a + b\n",
    "\n",
    "# Function call\n",
    "result = add(5, 10)\n",
    "print(result)  \n"
   ]
  },
  {
   "cell_type": "markdown",
   "id": "cccdfe2d-9998-44de-8629-77df0bac6c3c",
   "metadata": {},
   "source": [
    "### 3. Calling Functions with Positional Arguments\n",
    "    - Functions can be called by passing arguments in the order of the parameters."
   ]
  },
  {
   "cell_type": "code",
   "execution_count": 24,
   "id": "9cccb42f-b4fb-41b2-a184-bc7f31e0e37d",
   "metadata": {},
   "outputs": [
    {
     "name": "stdout",
     "output_type": "stream",
     "text": [
      "10\n"
     ]
    }
   ],
   "source": [
    "# Example\n",
    "\n",
    "def multiply(a, b):\n",
    "    return a * b\n",
    "\n",
    "# Positional arguments (order matters)\n",
    "print(multiply(2, 5)) \n"
   ]
  },
  {
   "cell_type": "markdown",
   "id": "d8e99408-290f-4f84-a0df-0ade08cb37b9",
   "metadata": {},
   "source": [
    "### 4. Calling Functions with Keyword Arguments\n",
    "    - You can call a function using keyword arguments, specifying the parameter name explicitly. This allows passing arguments in any order."
   ]
  },
  {
   "cell_type": "code",
   "execution_count": 23,
   "id": "946c88da-9399-4aa4-94e1-99f17ff90ab0",
   "metadata": {},
   "outputs": [
    {
     "name": "stdout",
     "output_type": "stream",
     "text": [
      "My name is Alice and I am 30 years old.\n"
     ]
    }
   ],
   "source": [
    "# Example\n",
    "\n",
    "def introduce(name, age):\n",
    "    print(f\"My name is {name} and I am {age} years old.\")\n",
    "\n",
    "# Keyword arguments (order doesn't matter)\n",
    "introduce(age=30, name=\"Alice\") \n"
   ]
  },
  {
   "cell_type": "markdown",
   "id": "e34e12b0-5ec0-4962-bbc6-dff9b4666919",
   "metadata": {},
   "source": [
    "### 5. Function with Default Arguments\n",
    "    - You can define default values for parameters. If a value for that parameter is not provided, the default value is used."
   ]
  },
  {
   "cell_type": "code",
   "execution_count": 22,
   "id": "546385ea-3630-4bfb-8c2a-4fe843e1bf7c",
   "metadata": {},
   "outputs": [
    {
     "name": "stdout",
     "output_type": "stream",
     "text": [
      "Hello, Guest!\n",
      "Hello, Alice!\n"
     ]
    }
   ],
   "source": [
    "# Example\n",
    "\n",
    "def greet(name=\"Guest\"):\n",
    "    print(f\"Hello, {name}!\")\n",
    "\n",
    "# Function calls\n",
    "greet()          \n",
    "greet(\"Alice\")  \n"
   ]
  },
  {
   "cell_type": "markdown",
   "id": "ccb4bdfa-e0e8-4837-a986-1cd9dde8c23a",
   "metadata": {},
   "source": [
    "### 6. Variable-Length Arguments (*args and **kwargs)\n",
    "    - You can define functions that accept a variable number of arguments.\n",
    "    - *args: Allows the function to accept any number of positional arguments. They are passed as a tuple.\n",
    "    - **kwargs: Allows the function to accept any number of keyword arguments. They are passed as a dictionary."
   ]
  },
  {
   "cell_type": "code",
   "execution_count": 21,
   "id": "0f1d0e3b-bafe-4f92-ae43-13d796aafb17",
   "metadata": {},
   "outputs": [
    {
     "name": "stdout",
     "output_type": "stream",
     "text": [
      "10\n"
     ]
    }
   ],
   "source": [
    "# Example of *args\n",
    "\n",
    "def sum_all(*args):\n",
    "    return sum(args)\n",
    "\n",
    "# Function call with a variable number of arguments\n",
    "print(sum_all(1, 2, 3, 4))  \n"
   ]
  },
  {
   "cell_type": "code",
   "execution_count": 20,
   "id": "1172ea33-52ee-4f7e-a09e-e6350ee836f2",
   "metadata": {},
   "outputs": [
    {
     "name": "stdout",
     "output_type": "stream",
     "text": [
      "name: Alice\n",
      "age: 25\n",
      "city: New York\n"
     ]
    }
   ],
   "source": [
    "# Example of **kwargs\n",
    "\n",
    "def print_info(**kwargs):\n",
    "    for key, value in kwargs.items():\n",
    "        print(f\"{key}: {value}\")\n",
    "\n",
    "# Function call with keyword arguments\n",
    "print_info(name=\"Alice\", age=25, city=\"New York\")\n"
   ]
  },
  {
   "cell_type": "markdown",
   "id": "eaec42e7-559c-45b8-af41-23f27758a53d",
   "metadata": {},
   "source": [
    "### 7. Anonymous Functions (Lambda Functions)\n",
    "    - A lambda function is a small anonymous function defined using the lambda keyword. It can have any number of arguments but only one expression.\n",
    "    - Syntax:    lambda arguments: expression"
   ]
  },
  {
   "cell_type": "code",
   "execution_count": 19,
   "id": "07a1fe57-e654-4c0b-9087-7e7a66d76fac",
   "metadata": {},
   "outputs": [
    {
     "name": "stdout",
     "output_type": "stream",
     "text": [
      "8\n"
     ]
    }
   ],
   "source": [
    "# Example\n",
    "\n",
    "# Lambda function to add two numbers\n",
    "add = lambda a, b: a + b\n",
    "\n",
    "# Calling the lambda function\n",
    "print(add(5, 3))  # Output: 8\n"
   ]
  },
  {
   "cell_type": "markdown",
   "id": "0418b565-c1fd-4fa4-b3f3-b2ce853a4621",
   "metadata": {},
   "source": [
    "### 8. Nested Functions\n",
    "    - A function can be defined inside another function. The inner function can only be accessed within the outer function."
   ]
  },
  {
   "cell_type": "code",
   "execution_count": 31,
   "id": "cab8df50-63ae-4943-8ce6-d23a16f7e2ce",
   "metadata": {},
   "outputs": [
    {
     "name": "stdout",
     "output_type": "stream",
     "text": [
      "Hello from the inner function!\n"
     ]
    }
   ],
   "source": [
    "# Example\n",
    "\n",
    "def outer_function():\n",
    "    def inner_function():\n",
    "        print(\"Hello from the inner function!\")\n",
    "    \n",
    "    inner_function()\n",
    "\n",
    "# Calling the outer function\n",
    "outer_function()\n"
   ]
  },
  {
   "cell_type": "markdown",
   "id": "7c1068c8-bc23-4730-95c9-5da756b97821",
   "metadata": {},
   "source": [
    "### 9. Recursive Functions\n",
    "    - A function can call itself, which is known as recursion. This is useful for solving problems that can be broken down into smaller, similar subproblems."
   ]
  },
  {
   "cell_type": "code",
   "execution_count": 32,
   "id": "1dbd5334-79cc-4535-af84-4757b832c419",
   "metadata": {},
   "outputs": [
    {
     "name": "stdout",
     "output_type": "stream",
     "text": [
      "120\n"
     ]
    }
   ],
   "source": [
    "# Example\n",
    "\n",
    "def factorial(n):\n",
    "    if n == 1:\n",
    "        return 1\n",
    "    else:\n",
    "        return n * factorial(n - 1)\n",
    "\n",
    "# Function call\n",
    "print(factorial(5))  \n"
   ]
  },
  {
   "cell_type": "markdown",
   "id": "58d0df14-ea67-4788-8382-334919d98d9c",
   "metadata": {},
   "source": [
    "### 10. Calling Functions from Another Module\n",
    "    - You can define a function in one module (file) and call it from another by importing the module."
   ]
  },
  {
   "cell_type": "code",
   "execution_count": 33,
   "id": "e8fc556f-1048-4635-9f66-05f42b3cf68e",
   "metadata": {},
   "outputs": [],
   "source": [
    "# Example:\n",
    "# In math_functions.py:\n",
    "\n",
    "def square(x):\n",
    "    return x ** 2\n"
   ]
  },
  {
   "cell_type": "code",
   "execution_count": null,
   "id": "6f17201e-27ce-42bb-9c0a-36b94b3f51b2",
   "metadata": {},
   "outputs": [],
   "source": [
    "# In another file\n",
    "\n",
    "from math_functions import square\n",
    "\n",
    "# Function call\n",
    "print(square(4))  # Output: 16\n"
   ]
  },
  {
   "cell_type": "markdown",
   "id": "3ab0ec37-159a-4766-a97c-62dc0a0af3f4",
   "metadata": {},
   "source": [
    "##\n"
   ]
  },
  {
   "cell_type": "markdown",
   "id": "1f3233f3-7736-4b7e-aeb4-9f6889b3072c",
   "metadata": {
    "jp-MarkdownHeadingCollapsed": true,
    "tags": []
   },
   "source": [
    "# 4. What is the purpose of the `return` statement in a Python function?"
   ]
  },
  {
   "cell_type": "markdown",
   "id": "cbac5697-610a-4c44-b505-bf1a54ff6b92",
   "metadata": {},
   "source": [
    "Ans.     \n",
    "The return statement in a Python function serves the following key purposes:\n",
    "\n",
    "### 1. Return a Value from a Function:\n",
    "    - The return statement is used to send a value from the function back to the caller. When a function is called, the return statement specifies what value or result should be passed back to the code that invoked the function."
   ]
  },
  {
   "cell_type": "code",
   "execution_count": 36,
   "id": "d72c9942-7fb7-4197-b2ef-7e86eeceb443",
   "metadata": {},
   "outputs": [
    {
     "name": "stdout",
     "output_type": "stream",
     "text": [
      "8\n"
     ]
    }
   ],
   "source": [
    "# Example\n",
    "\n",
    "def add(a, b):\n",
    "    return a + b\n",
    "\n",
    "result = add(5, 3)  # The function returns 8, which is stored in 'result'\n",
    "print(result)       \n",
    "\n",
    "# In this example, add(5, 3) evaluates to 8 because the return statement sends the result of a + b back to where the function was called.\n"
   ]
  },
  {
   "cell_type": "markdown",
   "id": "97ac9132-306c-40da-9ee5-aac74f2982c5",
   "metadata": {},
   "source": [
    "### 2. End the Function's Execution:\n",
    "    - The return statement also serves as a way to end the execution of the function. Once a return statement is executed, the function stops, and control is passed back to the calling code."
   ]
  },
  {
   "cell_type": "code",
   "execution_count": 37,
   "id": "45994161-245d-4d46-b28c-0f34be1b3d95",
   "metadata": {},
   "outputs": [
    {
     "name": "stdout",
     "output_type": "stream",
     "text": [
      "Even\n",
      "Odd\n"
     ]
    }
   ],
   "source": [
    "# Example\n",
    "\n",
    "def check_even(number):\n",
    "    if number % 2 == 0:\n",
    "        return \"Even\"\n",
    "    return \"Odd\"\n",
    "\n",
    "print(check_even(4))  \n",
    "print(check_even(5))  \n",
    "\n",
    "# Here, the function immediately stops when it encounters the first return statement. If the number is even, it doesn't proceed to the second return statement.\n"
   ]
  },
  {
   "cell_type": "markdown",
   "id": "3d7b936b-2226-4d79-a07a-303a2eac0e9d",
   "metadata": {},
   "source": [
    "### 3. Returning Multiple Values:\n",
    "    - Python allows a function to return multiple values as a tuple. This is useful for when you want to return more than one piece of information from a function."
   ]
  },
  {
   "cell_type": "code",
   "execution_count": 38,
   "id": "47667cd5-185a-450b-a637-ee504254ba6c",
   "metadata": {},
   "outputs": [
    {
     "name": "stdout",
     "output_type": "stream",
     "text": [
      "1\n",
      "5\n"
     ]
    }
   ],
   "source": [
    "# Example\n",
    "\n",
    "def get_min_max(numbers):\n",
    "    return min(numbers), max(numbers)\n",
    "\n",
    "min_value, max_value = get_min_max([1, 2, 3, 4, 5])\n",
    "print(min_value) \n",
    "print(max_value) \n",
    "\n",
    "# n this case, the function get_min_max() returns both the minimum and maximum values of the list in a single return statement.\n"
   ]
  },
  {
   "cell_type": "markdown",
   "id": "fa881229-a8d2-40eb-80dd-7bfca6278f03",
   "metadata": {},
   "source": [
    "### 4. Returning None:\n",
    "    - If a function does not explicitly use the return statement or has no value after return, Python returns None by default. None is a special value that represents the absence of a return value."
   ]
  },
  {
   "cell_type": "code",
   "execution_count": 39,
   "id": "e52ea1ad-7c86-423e-a761-bd54663a7f78",
   "metadata": {},
   "outputs": [
    {
     "name": "stdout",
     "output_type": "stream",
     "text": [
      "Hello!\n",
      "None\n"
     ]
    }
   ],
   "source": [
    "# Example\n",
    "\n",
    "def say_hello():\n",
    "    print(\"Hello!\")\n",
    "\n",
    "result = say_hello()  # Function does not have a return statement\n",
    "print(result)         # Output: None\n",
    "\n",
    "# Even though the say_hello() function prints \"Hello!\" to the console, it doesn't return a value, so result is None. \n"
   ]
  },
  {
   "cell_type": "markdown",
   "id": "c0221d69-4f1b-4a5f-8611-9c511924318b",
   "metadata": {
    "tags": []
   },
   "source": [
    "##\n"
   ]
  },
  {
   "cell_type": "markdown",
   "id": "1346a105-0c7f-4e44-a88f-07e1fcb71338",
   "metadata": {
    "jp-MarkdownHeadingCollapsed": true,
    "tags": []
   },
   "source": [
    "# 5. What are iterators in Python and how do they differ from iterables?"
   ]
  },
  {
   "cell_type": "markdown",
   "id": "0634cb04-3796-4170-a518-70ec08fc9363",
   "metadata": {},
   "source": [
    "Ans.\n",
    "In Python, iterators and iterables are fundamental concepts for working with sequences of data. While they are related, they have distinct differences in terms of how they operate and interact with data.\n",
    "\n",
    "### Iterable:    \n",
    "    - An iterable is any Python object capable of returning its members one at a time. It is an object that can be \"iterated over\" using a loop (such as a for loop) or other iteration methods.\n",
    "    - An iterable is an object that implements the __iter__() method, which returns an iterator.\n",
    "    - Examples of iterable objects are lists, tuples, strings, dictionaries, and sets. These objects can be passed to a for loop or any function that expects an iterable."
   ]
  },
  {
   "cell_type": "code",
   "execution_count": 41,
   "id": "d745047a-7217-41a6-8b44-cdaca779e068",
   "metadata": {},
   "outputs": [
    {
     "name": "stdout",
     "output_type": "stream",
     "text": [
      "1\n",
      "2\n",
      "3\n",
      "4\n"
     ]
    }
   ],
   "source": [
    "\n",
    "# Example of an Iterable:\n",
    "\n",
    "my_list = [1, 2, 3, 4]\n",
    "for item in my_list:\n",
    "    print(item)\n",
    "\n",
    "# Here, my_list is an iterable because we can loop through its elements one by one.\n"
   ]
  },
  {
   "cell_type": "markdown",
   "id": "9fda6923-692f-4706-a4d7-e60dc4b3f47a",
   "metadata": {},
   "source": [
    "### Iterator:\n",
    "    - An iterator is an object that represents a stream of data. It is the object that performs the actual iteration over an iterable. Iterators maintain the current position as they iterate through elements one at a time.\n",
    "    - An iterator must implement two methods:\n",
    "        __iter__() returns the iterator object itself.\n",
    "        __next__() returns the next item from the sequence. When there are no more items, it raises a StopIteration exception to signal the end of the iteration.\n",
    "    - Unlike iterables, once you have iterated over all elements in an iterator, it is exhausted, meaning you cannot loop through it again without creating a new iterator."
   ]
  },
  {
   "cell_type": "code",
   "execution_count": 42,
   "id": "c036bbed-ec60-4143-8802-3cf1efbeec8a",
   "metadata": {},
   "outputs": [
    {
     "name": "stdout",
     "output_type": "stream",
     "text": [
      "1\n",
      "2\n",
      "3\n"
     ]
    }
   ],
   "source": [
    "\n",
    "# Example of an Iterator:\n",
    "\n",
    "my_list = [1, 2, 3]\n",
    "my_iterator = iter(my_list)  # Create an iterator from the list\n",
    "\n",
    "print(next(my_iterator))  # Output: 1\n",
    "print(next(my_iterator))  # Output: 2\n",
    "print(next(my_iterator))  # Output: 3\n",
    "\n",
    "# In this example, my_iterator is an iterator, and calling next() returns the next element in the sequence. If we call next(my_iterator) again, it will raise StopIteration because the iterator is exhausted.\n"
   ]
  },
  {
   "cell_type": "markdown",
   "id": "c003b0e4-c9c5-41b3-acb3-20a7e4658929",
   "metadata": {},
   "source": [
    "### Key Differences Between Iterables and Iterators:\n",
    "    Iterable is the source of data, while Iterator is the object that actually performs the iteration over the data.\n",
    "    Iterables can be iterated over multiple times, but iterators can only be iterated once unless re-created.\n",
    "    You can loop over an iterable directly using a for loop, while an iterator requires calling next() or being used in a loop.\n",
    "    Iterators are built from iterables using the iter() function, while iterables don’t need to be explicitly converted to be used in loops."
   ]
  },
  {
   "cell_type": "markdown",
   "id": "d40fee82-c2f8-456c-acc5-279d282b62f4",
   "metadata": {},
   "source": [
    "##\n"
   ]
  },
  {
   "cell_type": "markdown",
   "id": "d8bd8f8e-0bf8-47c0-a660-6c6996dd104e",
   "metadata": {
    "jp-MarkdownHeadingCollapsed": true,
    "tags": []
   },
   "source": [
    "# 6. Explain the concept of generators in Python and how they are defined."
   ]
  },
  {
   "cell_type": "markdown",
   "id": "63988b46-5b80-4b21-ab18-23a77d396f90",
   "metadata": {},
   "source": [
    "### Concept of Generators in Python:    \n",
    "Generators in Python are a special type of iterable, like lists or tuples, but with a key difference: they generate items one at a time and only when required, rather than storing them in memory all at once. This makes generators highly memory-efficient, especially when working with large datasets or streams of data that don’t need to be stored entirely in memory at the same time.       \n",
    "\n",
    "Generators use lazy evaluation, meaning they produce values on the fly, which saves both memory and processing time.\n",
    "\n",
    "### How Generators Work:\n",
    "    - Generators are implemented using functions but instead of return, they use the yield keyword.\n",
    "    - When a generator function is called, it doesn’t execute its body immediately. Instead, it returns a generator object that can be iterated over.\n",
    "    - Every time yield is encountered in the generator function, the state of the function is \"saved\" (including local variables and the point of execution), and the value after yield is returned to the caller.\n",
    "    - On subsequent calls (or iterations), the function resumes from where it left off, continuing until it either runs out of items or explicitly returns (raising StopIteration).\n",
    "### Defining a Generator:     \n",
    "A generator is defined just like a regular function but uses yield instead of return."
   ]
  },
  {
   "cell_type": "code",
   "execution_count": 44,
   "id": "f19876c2-3688-4302-8543-f3b663cfb697",
   "metadata": {},
   "outputs": [
    {
     "name": "stdout",
     "output_type": "stream",
     "text": [
      "1\n",
      "2\n",
      "3\n"
     ]
    }
   ],
   "source": [
    "\n",
    "# Example\n",
    "\n",
    "def simple_generator():\n",
    "    yield 1\n",
    "    yield 2\n",
    "    yield 3\n",
    "\n",
    "# Calling the generator\n",
    "gen = simple_generator()\n",
    "\n",
    "# Iterating over the generator\n",
    "print(next(gen)) \n",
    "print(next(gen))  \n",
    "print(next(gen))  \n",
    "\n",
    "# In this example:\n",
    "# The simple_generator() function yields values one at a time.\n",
    "# When next() is called on the generator object, it resumes from where it left off and returns the next value.\n"
   ]
  },
  {
   "cell_type": "markdown",
   "id": "4c12a597-8ac0-4af6-863d-a1ee06c3f766",
   "metadata": {},
   "source": [
    "### Generator Expressions:     \n",
    "Python also allows creating generators using a concise syntax known as generator expressions. These are similar to list comprehensions but use parentheses () instead of square brackets []."
   ]
  },
  {
   "cell_type": "code",
   "execution_count": 45,
   "id": "d90e944d-bf80-4bda-93da-db08014e4e4f",
   "metadata": {},
   "outputs": [
    {
     "name": "stdout",
     "output_type": "stream",
     "text": [
      "0\n",
      "1\n",
      "4\n",
      "9\n",
      "16\n"
     ]
    }
   ],
   "source": [
    "\n",
    "# Example\n",
    "\n",
    "gen_exp = (x * x for x in range(5))\n",
    "\n",
    "# Iterate through the generator expression\n",
    "for value in gen_exp:\n",
    "    print(value)\n",
    "\n",
    "# Here, gen_exp is a generator expression that produces squares of numbers from 0 to 4.\n"
   ]
  },
  {
   "cell_type": "markdown",
   "id": "e7bbb35c-e834-41ad-957e-3aac681b81c2",
   "metadata": {},
   "source": [
    "##\n"
   ]
  },
  {
   "cell_type": "markdown",
   "id": "96b6fc9b-6168-4045-b311-0b6cfc7b45d4",
   "metadata": {
    "jp-MarkdownHeadingCollapsed": true,
    "tags": []
   },
   "source": [
    "# 7. What are the advantages of using generators over regular functions?"
   ]
  },
  {
   "cell_type": "markdown",
   "id": "3e526a4d-53ad-48e9-a373-6d042d7f079e",
   "metadata": {},
   "source": [
    "Ans.     \n",
    "Generators offer several advantages over regular functions, particularly when working with large data sets or sequences. Here's a breakdown of the benefits:    \n",
    "### 1. Memory Efficiency:\n",
    "Generators are highly memory-efficient because they yield values one at a time rather than storing all values in memory. This is particularly beneficial when working with large data sets or streams of data. Unlike lists or other data structures that require memory to hold all items at once, generators only keep track of the current value and its state, thus significantly reducing memory usage."
   ]
  },
  {
   "cell_type": "code",
   "execution_count": 46,
   "id": "07b35e34-6df4-4108-82a8-6ed8108dc19c",
   "metadata": {},
   "outputs": [],
   "source": [
    "\n",
    "# Example\n",
    "\n",
    "def large_range():\n",
    "    for i in range(1000000):\n",
    "        yield i  # Only one value is in memory at a time\n",
    "\n",
    "gen = large_range()\n",
    "# We can iterate over a large range without consuming much memory\n",
    "for value in gen:\n",
    "    # process value\n",
    "    pass\n",
    "\n",
    "# In this example, the generator large_range handles a large sequence without consuming memory to store all values at once.\n"
   ]
  },
  {
   "cell_type": "markdown",
   "id": "76ecfa33-b0e3-42d6-9e9b-cad7c9621274",
   "metadata": {},
   "source": [
    "### 2. Readability:\n",
    "Generators enhance code readability by allowing you to write iteration logic in a more straightforward and manageable way. With generators, you can break down complex iteration processes into simpler, more understandable chunks. The use of yield instead of constructing and managing lists or other data structures makes the code easier to follow."
   ]
  },
  {
   "cell_type": "code",
   "execution_count": 47,
   "id": "d9304f17-7187-450c-8651-b87b24f41f32",
   "metadata": {},
   "outputs": [
    {
     "name": "stdout",
     "output_type": "stream",
     "text": [
      "0\n",
      "2\n",
      "4\n",
      "6\n",
      "8\n"
     ]
    }
   ],
   "source": [
    "\n",
    "# Example\n",
    "\n",
    "def even_numbers(max_value):\n",
    "    for i in range(max_value):\n",
    "        if i % 2 == 0:\n",
    "            yield i  # Yields only even numbers\n",
    "\n",
    "# Using the generator\n",
    "for even in even_numbers(10):\n",
    "    print(even)\n",
    "\n",
    "# This code snippet shows how generators simplify the task of iterating over and filtering values, making the logic more transparent compared to handling it with lists or separate loops.\n"
   ]
  },
  {
   "cell_type": "markdown",
   "id": "5913db53-5edf-4c1d-9bb5-5ea62e5b7afe",
   "metadata": {},
   "source": [
    "### 3. Speed:\n",
    "Generators can be faster than regular loops, especially when dealing with large data sets. This is because they avoid the overhead associated with creating and managing a complete list or other data structures to store the results. By generating values on the fly, generators reduce both processing time and memory overhead."
   ]
  },
  {
   "cell_type": "code",
   "execution_count": 48,
   "id": "56e5ec08-a4af-41d8-8061-0d71feec6faf",
   "metadata": {},
   "outputs": [
    {
     "name": "stdout",
     "output_type": "stream",
     "text": [
      "Time with list: 0.01204681396484375\n",
      "Time with generator: 0.013064146041870117\n"
     ]
    }
   ],
   "source": [
    "\n",
    "# Example\n",
    "\n",
    "def countdown(n):\n",
    "    while n > 0:\n",
    "        yield n\n",
    "        n -= 1\n",
    "\n",
    "# Compare execution speed\n",
    "import time\n",
    "\n",
    "start_time = time.time()\n",
    "result = list(countdown(100000))  # Using list (slower due to memory usage)\n",
    "end_time = time.time()\n",
    "print(\"Time with list:\", end_time - start_time)\n",
    "\n",
    "start_time = time.time()\n",
    "for _ in countdown(100000):  # Using generator (faster)\n",
    "    pass\n",
    "end_time = time.time()\n",
    "print(\"Time with generator:\", end_time - start_time)\n",
    "\n",
    "# In this example, using a generator avoids the overhead of creating a large list, which typically results in faster execution for large ranges or data sets.\n"
   ]
  },
  {
   "cell_type": "markdown",
   "id": "29d1d432-cdab-4788-a67c-aea8a231ee90",
   "metadata": {},
   "source": [
    "### 4. Pipeline Processing:\n",
    "Generators can be easily chained together to form a pipeline of data transformations. This allows you to apply multiple processing steps lazily, which can be more efficient than applying all transformations at once."
   ]
  },
  {
   "cell_type": "code",
   "execution_count": 49,
   "id": "e26ffbc4-a910-4bb1-b181-fca009182230",
   "metadata": {},
   "outputs": [
    {
     "name": "stdout",
     "output_type": "stream",
     "text": [
      "[0, 2, 4, 6, 8, 10, 12, 14, 16, 18]\n"
     ]
    }
   ],
   "source": [
    "\n",
    "# Example\n",
    "\n",
    "def generator_1():\n",
    "    for i in range(10):\n",
    "        yield i\n",
    "\n",
    "def generator_2(seq):\n",
    "    for i in seq:\n",
    "        yield i * 2\n",
    "\n",
    "gen1 = generator_1()\n",
    "gen2 = generator_2(gen1)  # Generator pipeline\n",
    "print(list(gen2))  # [0, 2, 4, 6, 8, 10, 12, 14, 16, 18]\n"
   ]
  },
  {
   "cell_type": "markdown",
   "id": "edcbb1ba-683a-4ce1-b043-60c243f6b34c",
   "metadata": {},
   "source": [
    "##\n"
   ]
  },
  {
   "cell_type": "markdown",
   "id": "d13b71fb-8c7b-45fe-9a60-638e4aee0e6c",
   "metadata": {
    "jp-MarkdownHeadingCollapsed": true,
    "tags": []
   },
   "source": [
    "# 8. What is a lambda function in Python and when is it typically used?"
   ]
  },
  {
   "cell_type": "markdown",
   "id": "e5ee3246-a6be-4d1d-b1d5-9d0f07528849",
   "metadata": {},
   "source": [
    "Ans.     \n",
    "A lambda function in Python is a small, anonymous function defined using the lambda keyword. Unlike regular functions created with the def keyword, lambda functions are concise and are generally used for short-term, one-off operations where a full function definition would be unnecessarily verbose.\n",
    "\n",
    "### Syntax:   \n",
    "    \"lambda arguments: expression\"\n",
    "    lambda: The keyword to define a lambda function.\n",
    "    arguments: The parameters the lambda function takes.\n",
    "    expression: A single expression that is evaluated and returned. Unlike regular functions, lambda functions cannot contain statements or multiple expressions."
   ]
  },
  {
   "cell_type": "markdown",
   "id": "f13b65b2-a563-4029-9bda-a18d75c85215",
   "metadata": {},
   "source": [
    "### Examples of Lambda Functions:     \n",
    "1. Basic Example:"
   ]
  },
  {
   "cell_type": "code",
   "execution_count": 50,
   "id": "dea8025d-f76a-46b0-8c19-e8e87f3eba3b",
   "metadata": {},
   "outputs": [
    {
     "name": "stdout",
     "output_type": "stream",
     "text": [
      "8\n"
     ]
    }
   ],
   "source": [
    "\n",
    "# Lambda function to add two numbers\n",
    "add = lambda x, y: x + y\n",
    "print(add(5, 3))  \n"
   ]
  },
  {
   "cell_type": "markdown",
   "id": "3d61a281-8562-4503-8cd6-1385d6a01a47",
   "metadata": {},
   "source": [
    "2. Using Lambda with map(): The map() function applies a lambda function to each item in an iterable (e.g., list)."
   ]
  },
  {
   "cell_type": "code",
   "execution_count": 51,
   "id": "93ea5e96-5979-447b-ba14-33d86d12ccac",
   "metadata": {},
   "outputs": [
    {
     "name": "stdout",
     "output_type": "stream",
     "text": [
      "[1, 4, 9, 16]\n"
     ]
    }
   ],
   "source": [
    "\n",
    "numbers = [1, 2, 3, 4]\n",
    "squares = list(map(lambda x: x**2, numbers))\n",
    "print(squares)  \n"
   ]
  },
  {
   "cell_type": "markdown",
   "id": "31f303f3-6a91-418e-a0e4-ecf6d125f989",
   "metadata": {},
   "source": [
    "3. Using Lambda with filter(): The filter() function applies a lambda function to each item in an iterable and returns only those that satisfy a condition."
   ]
  },
  {
   "cell_type": "code",
   "execution_count": 52,
   "id": "c19726a3-a7cd-42ce-bc64-130e0c4ec77c",
   "metadata": {},
   "outputs": [
    {
     "name": "stdout",
     "output_type": "stream",
     "text": [
      "[2, 4]\n"
     ]
    }
   ],
   "source": [
    "\n",
    "numbers = [1, 2, 3, 4, 5]\n",
    "even_numbers = list(filter(lambda x: x % 2 == 0, numbers))\n",
    "print(even_numbers)  \n"
   ]
  },
  {
   "cell_type": "markdown",
   "id": "76eff11e-ffd9-4e7d-bcea-4b9c47e7076c",
   "metadata": {},
   "source": [
    "4. Using Lambda with sorted(): Lambda functions can be used to provide a custom sorting key."
   ]
  },
  {
   "cell_type": "code",
   "execution_count": 53,
   "id": "a36d3689-6231-4da9-9167-2cad6223884d",
   "metadata": {},
   "outputs": [
    {
     "name": "stdout",
     "output_type": "stream",
     "text": [
      "[('banana', 2), ('apple', 3), ('cherry', 5)]\n"
     ]
    }
   ],
   "source": [
    "\n",
    "data = [('apple', 3), ('banana', 2), ('cherry', 5)]\n",
    "sorted_data = sorted(data, key=lambda x: x[1])\n",
    "print(sorted_data) \n"
   ]
  },
  {
   "cell_type": "markdown",
   "id": "9d854811-9236-4051-bf87-c8735706d68b",
   "metadata": {},
   "source": [
    "### When to Use Lambda Functions:\n",
    "    - Short-Term or Temporary Use: Lambda functions are ideal for simple operations that are used only once or a few times. They are often used in places where a function is required as an argument to another function.\n",
    "    - In-Line Operations: They are commonly used in scenarios where defining a full function would be unnecessary, such as when performing simple operations directly within higher-order functions (e.g., map(), filter(), sorted()).\n",
    "    - Avoiding Function Definition Overhead: Lambda functions help avoid the overhead of defining a named function when a short, one-off function is needed.\n",
    "    - Functional Programming: They are useful in functional programming techniques where functions are passed as arguments to other functions.\n",
    "\n",
    "### Limitations of Lambda Functions:\n",
    "    - Single Expression: Lambda functions are limited to a single expression. They cannot contain multiple expressions, statements, or annotations. This makes them less suitable for complex operations.\n",
    "    - Readability: While lambda functions can make code more concise, they can also reduce readability if overused or used in complex scenarios.\n",
    "    - Debugging: Since lambda functions do not have names and are less descriptive, debugging can be harder compared to named functions."
   ]
  },
  {
   "cell_type": "markdown",
   "id": "1ed52510-9a8f-4a01-aa3a-b429f91cde62",
   "metadata": {},
   "source": [
    "##\n"
   ]
  },
  {
   "cell_type": "markdown",
   "id": "8c40601b-1703-4ee0-9e8f-6899b35cd4bb",
   "metadata": {
    "jp-MarkdownHeadingCollapsed": true,
    "tags": []
   },
   "source": [
    "# 9. Explain the purpose and usage of the `map()` function in Python."
   ]
  },
  {
   "cell_type": "markdown",
   "id": "71a8dcd4-8477-4f1e-a21d-388fd0780b7a",
   "metadata": {},
   "source": [
    "\n",
    "Ans.     \n",
    "The map() function in Python is used to apply a given function to each item of an iterable (like a list, tuple, or set) and return an iterator that yields the results. It is commonly used for transforming or processing collections of data efficiently.\n",
    "\n",
    "### Purpose of map():\n",
    "    Transformation: The primary purpose of map() is to apply a transformation function to each element in an iterable, producing a new iterable of transformed items.\n",
    "    Efficiency: map() provides a functional approach to processing collections without the need for explicit loops, leading to more concise and readable code.\n",
    "### Syntax:    \n",
    "    \"map(function, iterable, ...)\"\n",
    "    function: A function that will be applied to each element of the iterable.\n",
    "    iterable: An iterable whose elements are to be processed by the function.\n",
    "    Additional iterables can be provided if the function takes multiple arguments.\n",
    "    \n",
    "### Examples of Using map():\n",
    "1. Basic Example: Applying a function to each item in a list. \n"
   ]
  },
  {
   "cell_type": "code",
   "execution_count": 60,
   "id": "5ba73d50-a354-4c50-992a-47f74999b5dc",
   "metadata": {},
   "outputs": [
    {
     "name": "stdout",
     "output_type": "stream",
     "text": [
      "[1, 4, 9, 16, 25]\n"
     ]
    }
   ],
   "source": [
    "\n",
    "# Function to square a number\n",
    "def square(x):\n",
    "    return x * x\n",
    "\n",
    "numbers = [1, 2, 3, 4, 5]\n",
    "squared_numbers = map(square, numbers)\n",
    "print(list(squared_numbers))  \n"
   ]
  },
  {
   "cell_type": "markdown",
   "id": "2c91ed05-5b3b-4031-a0f0-cfc71e71d977",
   "metadata": {},
   "source": [
    "2. Using Lambda Functions: Applying a lambda function to transform data."
   ]
  },
  {
   "cell_type": "code",
   "execution_count": 59,
   "id": "0167a929-a8e8-4f4f-9cd4-088f6fd876f9",
   "metadata": {},
   "outputs": [
    {
     "name": "stdout",
     "output_type": "stream",
     "text": [
      "[1, 4, 9, 16, 25]\n"
     ]
    }
   ],
   "source": [
    "\n",
    "numbers = [1, 2, 3, 4, 5]\n",
    "squared_numbers = map(lambda x: x ** 2, numbers)\n",
    "print(list(squared_numbers))  \n"
   ]
  },
  {
   "cell_type": "markdown",
   "id": "9e698536-9038-4aeb-9fe7-f4d8709dbbc6",
   "metadata": {},
   "source": [
    "3. Multiple Iterables: Applying a function to elements from multiple iterables."
   ]
  },
  {
   "cell_type": "code",
   "execution_count": 58,
   "id": "7d618ba6-4e55-408f-9dd6-6c65b70807d7",
   "metadata": {},
   "outputs": [
    {
     "name": "stdout",
     "output_type": "stream",
     "text": [
      "[5, 7, 9]\n"
     ]
    }
   ],
   "source": [
    "\n",
    "def add(x, y):\n",
    "    return x + y\n",
    "\n",
    "numbers1 = [1, 2, 3]\n",
    "numbers2 = [4, 5, 6]\n",
    "summed_numbers = map(add, numbers1, numbers2)\n",
    "print(list(summed_numbers))  \n"
   ]
  },
  {
   "cell_type": "markdown",
   "id": "9aa4d33e-30bc-4983-946a-45d54d825ab8",
   "metadata": {},
   "source": [
    "4. Converting Data Types: Converting elements of an iterable from one type to another."
   ]
  },
  {
   "cell_type": "code",
   "execution_count": 57,
   "id": "161d5561-8d1d-46a8-9673-0090144ce03d",
   "metadata": {},
   "outputs": [
    {
     "name": "stdout",
     "output_type": "stream",
     "text": [
      "[1, 2, 3, 4]\n"
     ]
    }
   ],
   "source": [
    "\n",
    "strings = ['1', '2', '3', '4']\n",
    "numbers = map(int, strings)\n",
    "print(list(numbers)) \n"
   ]
  },
  {
   "cell_type": "markdown",
   "id": "25f79eee-d044-4a91-9f4b-d45f4c5457f4",
   "metadata": {},
   "source": [
    "##\n"
   ]
  },
  {
   "cell_type": "markdown",
   "id": "bb136cc4-2d0e-419a-bcba-9b12f3102fb6",
   "metadata": {
    "jp-MarkdownHeadingCollapsed": true,
    "tags": []
   },
   "source": [
    "# 10. What is the difference between `map()`, `reduce()`, and `filter()` functions in Python? "
   ]
  },
  {
   "cell_type": "markdown",
   "id": "eece6b9c-6ed0-4423-8849-ae37d52fe3cb",
   "metadata": {},
   "source": [
    "Ans.\n",
    "The map(), reduce(), and filter() functions are all built-in functions in Python that facilitate functional programming. Each serves a distinct purpose for processing iterables and performing operations on data. Here’s a breakdown of their differences:\n",
    "\n",
    "### map() Function       \n",
    "    Purpose: Applies a function to each item of an iterable (or multiple iterables) and returns an iterator yielding the results.\n",
    "    Usage: Used for transforming data by applying a function to each element of an iterable.\n",
    "    Syntax: map(function, iterable, ...)\n",
    "    Returns: An iterator that produces the results of applying the function to each item in the iterable(s).\n",
    "    "
   ]
  },
  {
   "cell_type": "code",
   "execution_count": 61,
   "id": "17fc5073-63f8-4504-bf61-82ff4ff181a7",
   "metadata": {},
   "outputs": [
    {
     "name": "stdout",
     "output_type": "stream",
     "text": [
      "[1, 4, 9, 16, 25]\n"
     ]
    }
   ],
   "source": [
    "\n",
    "# Example\n",
    "\n",
    "def square(x):\n",
    "    return x * x\n",
    "\n",
    "numbers = [1, 2, 3, 4, 5]\n",
    "squared_numbers = map(square, numbers)\n",
    "print(list(squared_numbers))  # Output: [1, 4, 9, 16, 25]\n"
   ]
  },
  {
   "cell_type": "markdown",
   "id": "bb7adb54-6262-444c-ab5e-b051b620d9c2",
   "metadata": {},
   "source": [
    "\n",
    "### reduce() Function\n",
    "    Purpose: Applies a function cumulatively to the items of an iterable, from left to right, so as to reduce the iterable to a single value.\n",
    "    Usage: Used for aggregating data by applying a function that combines two elements into a single result, and then repeatedly applies this function to the next element and the result of the previous function call.\n",
    "    Syntax: reduce(function, iterable[, initializer])\n",
    "    Returns: A single value that is the result of applying the function cumulatively.\n",
    "    "
   ]
  },
  {
   "cell_type": "code",
   "execution_count": 62,
   "id": "5bbac995-8ab4-43a9-a616-7f009d3e5d45",
   "metadata": {},
   "outputs": [
    {
     "name": "stdout",
     "output_type": "stream",
     "text": [
      "15\n"
     ]
    }
   ],
   "source": [
    "\n",
    "# Example\n",
    "\n",
    "from functools import reduce\n",
    "\n",
    "def add(x, y):\n",
    "    return x + y\n",
    "\n",
    "numbers = [1, 2, 3, 4, 5]\n",
    "sum_result = reduce(add, numbers)\n",
    "print(sum_result)  # Output: 15\n"
   ]
  },
  {
   "cell_type": "markdown",
   "id": "169cd924-b38e-4fe2-b040-498272235858",
   "metadata": {},
   "source": [
    "\n",
    "### filter() Function\n",
    "    Purpose: Filters items of an iterable by applying a function that returns True or False, and returns an iterator containing only the items for which the function returned True.\n",
    "    Usage: Used for selecting a subset of items from an iterable based on a condition defined by a function.\n",
    "    Syntax: filter(function, iterable)\n",
    "    Returns: An iterator containing only the items for which the function returned True.\n",
    "    "
   ]
  },
  {
   "cell_type": "code",
   "execution_count": 63,
   "id": "c636bb5c-42aa-4cc3-b364-38f1d73e4937",
   "metadata": {},
   "outputs": [
    {
     "name": "stdout",
     "output_type": "stream",
     "text": [
      "[2, 4]\n"
     ]
    }
   ],
   "source": [
    "\n",
    "# Example\n",
    "\n",
    "def is_even(x):\n",
    "    return x % 2 == 0\n",
    "\n",
    "numbers = [1, 2, 3, 4, 5]\n",
    "even_numbers = filter(is_even, numbers)\n",
    "print(list(even_numbers))  # Output: [2, 4]\n"
   ]
  },
  {
   "cell_type": "markdown",
   "id": "97d79ab2-0aa3-4aaa-ab03-da40a3f8b2f5",
   "metadata": {},
   "source": [
    "\n",
    "### Key Differences:\n",
    "\n",
    "### 1. Function Purpose:\n",
    "    map(): Transforms each element in the iterable based on the given function.\n",
    "    reduce(): Aggregates all elements in the iterable into a single result by applying the function cumulatively.\n",
    "    filter(): Filters elements of the iterable, keeping only those for which the function returns True.\n",
    "\n",
    "### 2. Return Value:\n",
    "    map(): Returns an iterator of transformed elements.\n",
    "    reduce(): Returns a single accumulated result.\n",
    "    filter(): Returns an iterator of filtered elements.\n",
    "\n",
    "### 3. Function Argument:\n",
    "    map(): Takes a function that is applied to each element of the iterable.\n",
    "    reduce(): Takes a function that combines two elements and optionally an initializer.\n",
    "    filter(): Takes a function that returns a boolean value to determine if an element should be included.\n",
    "\n",
    "### 4. Use Case:\n",
    "    map(): Use when you need to apply a transformation to all elements.\n",
    "    reduce(): Use when you need to combine all elements into a single result.\n",
    "    filter(): Use when you need to select a subset of elements based on a condition.\n",
    "\n",
    "### 5. Summary:\n",
    "    map(): Applies a function to each item in an iterable and returns an iterator of the results.\n",
    "    reduce(): Aggregates items in an iterable into a single result by applying a function cumulatively.\n",
    "    filter(): Filters items in an iterable based on a condition function, returning an iterator of items that meet the condition.\n",
    "    "
   ]
  },
  {
   "cell_type": "markdown",
   "id": "dea07f27-655a-4162-814b-56158fa25e4b",
   "metadata": {},
   "source": [
    "##\n"
   ]
  },
  {
   "cell_type": "markdown",
   "id": "ac2519a9-5642-43db-96ca-92d4cd1232e7",
   "metadata": {
    "tags": []
   },
   "source": [
    "# 11. Using pen & Paper write the internal mechanism for sum operation using  reduce function on this given list:[47,11,42,13]; "
   ]
  },
  {
   "cell_type": "markdown",
   "id": "820a63b8-9ad9-454c-be00-b3a5e536a188",
   "metadata": {},
   "source": []
  },
  {
   "cell_type": "code",
   "execution_count": null,
   "id": "077a2a97-74b1-44fc-a518-3ab644d5b7b9",
   "metadata": {},
   "outputs": [],
   "source": [
    "https://drive.google.com/file/d/1TY5GBguHJtXtzokes7uLerSS2ZkUI1k8/view?usp=sharing\n"
   ]
  }
 ],
 "metadata": {
  "kernelspec": {
   "display_name": "Python 3 (ipykernel)",
   "language": "python",
   "name": "python3"
  },
  "language_info": {
   "codemirror_mode": {
    "name": "ipython",
    "version": 3
   },
   "file_extension": ".py",
   "mimetype": "text/x-python",
   "name": "python",
   "nbconvert_exporter": "python",
   "pygments_lexer": "ipython3",
   "version": "3.10.8"
  }
 },
 "nbformat": 4,
 "nbformat_minor": 5
}
